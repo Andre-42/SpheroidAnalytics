{
  "cells": [
    {
      "cell_type": "markdown",
      "metadata": {
        "id": "0aStgWSO0E0E"
      },
      "source": [
        "# **(ADD HERE THE NOTEBOOK NAME)**"
      ]
    },
    {
      "cell_type": "markdown",
      "metadata": {
        "id": "1eLEkw5O0ECa"
      },
      "source": [
        "## Objectives\n",
        "\n",
        "* Write here your notebook objective, for example, \"Fetch data from Kaggle and save as raw data\", or \"engineer features for modelling\"\n",
        "\n",
        "## Inputs\n",
        "\n",
        "* Write here which data or information you need to run the notebook \n",
        "\n",
        "## Outputs\n",
        "\n",
        "* Write here which files, code or artefacts you generate by the end of the notebook \n",
        "\n",
        "## Additional Comments\n",
        "\n",
        "* In case you have any additional comments that don't fit in the previous bullets, please state them here. \n",
        "\n"
      ]
    },
    {
      "cell_type": "markdown",
      "metadata": {
        "id": "9uWZXH9LwoQg"
      },
      "source": [
        "---"
      ]
    },
    {
      "cell_type": "markdown",
      "metadata": {},
      "source": [
        "# Import packages"
      ]
    },
    {
      "cell_type": "code",
      "execution_count": 18,
      "metadata": {
        "metadata": {}
      },
      "outputs": [
        {
          "name": "stdout",
          "output_type": "stream",
          "text": [
            "Requirement already satisfied: numpy==1.19.2 in /workspace/.pip-modules/lib/python3.8/site-packages (from -r /workspace/SpheroidAnalytics/requirements.txt (line 1)) (1.19.2)\n",
            "Requirement already satisfied: pandas==1.1.2 in /workspace/.pip-modules/lib/python3.8/site-packages (from -r /workspace/SpheroidAnalytics/requirements.txt (line 2)) (1.1.2)\n",
            "Requirement already satisfied: matplotlib==3.3.1 in /workspace/.pip-modules/lib/python3.8/site-packages (from -r /workspace/SpheroidAnalytics/requirements.txt (line 3)) (3.3.1)\n",
            "Requirement already satisfied: seaborn==0.11.0 in /workspace/.pip-modules/lib/python3.8/site-packages (from -r /workspace/SpheroidAnalytics/requirements.txt (line 4)) (0.11.0)\n",
            "Requirement already satisfied: plotly==4.12.0 in /workspace/.pip-modules/lib/python3.8/site-packages (from -r /workspace/SpheroidAnalytics/requirements.txt (line 5)) (4.12.0)\n",
            "Requirement already satisfied: streamlit==0.85.0 in /workspace/.pip-modules/lib/python3.8/site-packages (from -r /workspace/SpheroidAnalytics/requirements.txt (line 7)) (0.85.0)\n",
            "Requirement already satisfied: scikit-learn==0.24.2 in /workspace/.pip-modules/lib/python3.8/site-packages (from -r /workspace/SpheroidAnalytics/requirements.txt (line 9)) (0.24.2)\n",
            "Requirement already satisfied: tensorflow-cpu==2.6.0 in /workspace/.pip-modules/lib/python3.8/site-packages (from -r /workspace/SpheroidAnalytics/requirements.txt (line 10)) (2.6.0)\n",
            "Requirement already satisfied: keras==2.6.0 in /workspace/.pip-modules/lib/python3.8/site-packages (from -r /workspace/SpheroidAnalytics/requirements.txt (line 11)) (2.6.0)\n",
            "Requirement already satisfied: protobuf==3.20 in /workspace/.pip-modules/lib/python3.8/site-packages (from -r /workspace/SpheroidAnalytics/requirements.txt (line 12)) (3.20.0)\n",
            "Requirement already satisfied: altair<5 in /workspace/.pip-modules/lib/python3.8/site-packages (from -r /workspace/SpheroidAnalytics/requirements.txt (line 13)) (4.2.2)\n",
            "Requirement already satisfied: python-dateutil>=2.7.3 in /home/gitpod/.pyenv/versions/3.8.18/lib/python3.8/site-packages (from pandas==1.1.2->-r /workspace/SpheroidAnalytics/requirements.txt (line 2)) (2.9.0.post0)\n",
            "Requirement already satisfied: pytz>=2017.2 in /home/gitpod/.pyenv/versions/3.8.18/lib/python3.8/site-packages (from pandas==1.1.2->-r /workspace/SpheroidAnalytics/requirements.txt (line 2)) (2024.1)\n",
            "Requirement already satisfied: certifi>=2020.06.20 in /home/gitpod/.pyenv/versions/3.8.18/lib/python3.8/site-packages (from matplotlib==3.3.1->-r /workspace/SpheroidAnalytics/requirements.txt (line 3)) (2024.2.2)\n",
            "Requirement already satisfied: cycler>=0.10 in /workspace/.pip-modules/lib/python3.8/site-packages (from matplotlib==3.3.1->-r /workspace/SpheroidAnalytics/requirements.txt (line 3)) (0.12.1)\n",
            "Requirement already satisfied: kiwisolver>=1.0.1 in /workspace/.pip-modules/lib/python3.8/site-packages (from matplotlib==3.3.1->-r /workspace/SpheroidAnalytics/requirements.txt (line 3)) (1.4.5)\n",
            "Requirement already satisfied: pillow>=6.2.0 in /workspace/.pip-modules/lib/python3.8/site-packages (from matplotlib==3.3.1->-r /workspace/SpheroidAnalytics/requirements.txt (line 3)) (10.3.0)\n",
            "Requirement already satisfied: pyparsing!=2.0.4,!=2.1.2,!=2.1.6,>=2.0.3 in /workspace/.pip-modules/lib/python3.8/site-packages (from matplotlib==3.3.1->-r /workspace/SpheroidAnalytics/requirements.txt (line 3)) (3.1.2)\n",
            "Requirement already satisfied: scipy>=1.0 in /workspace/.pip-modules/lib/python3.8/site-packages (from seaborn==0.11.0->-r /workspace/SpheroidAnalytics/requirements.txt (line 4)) (1.9.3)\n",
            "Requirement already satisfied: retrying>=1.3.3 in /workspace/.pip-modules/lib/python3.8/site-packages (from plotly==4.12.0->-r /workspace/SpheroidAnalytics/requirements.txt (line 5)) (1.3.4)\n",
            "Requirement already satisfied: six in /workspace/.pip-modules/lib/python3.8/site-packages (from plotly==4.12.0->-r /workspace/SpheroidAnalytics/requirements.txt (line 5)) (1.15.0)\n",
            "Requirement already satisfied: astor in /workspace/.pip-modules/lib/python3.8/site-packages (from streamlit==0.85.0->-r /workspace/SpheroidAnalytics/requirements.txt (line 7)) (0.8.1)\n",
            "Requirement already satisfied: attrs in /home/gitpod/.pyenv/versions/3.8.18/lib/python3.8/site-packages (from streamlit==0.85.0->-r /workspace/SpheroidAnalytics/requirements.txt (line 7)) (23.2.0)\n",
            "Requirement already satisfied: base58 in /workspace/.pip-modules/lib/python3.8/site-packages (from streamlit==0.85.0->-r /workspace/SpheroidAnalytics/requirements.txt (line 7)) (2.1.1)\n",
            "Requirement already satisfied: blinker in /workspace/.pip-modules/lib/python3.8/site-packages (from streamlit==0.85.0->-r /workspace/SpheroidAnalytics/requirements.txt (line 7)) (1.8.2)\n",
            "Requirement already satisfied: cachetools>=4.0 in /workspace/.pip-modules/lib/python3.8/site-packages (from streamlit==0.85.0->-r /workspace/SpheroidAnalytics/requirements.txt (line 7)) (5.3.3)\n",
            "Requirement already satisfied: click<8.0,>=7.0 in /workspace/.pip-modules/lib/python3.8/site-packages (from streamlit==0.85.0->-r /workspace/SpheroidAnalytics/requirements.txt (line 7)) (7.1.2)\n",
            "Requirement already satisfied: packaging in /home/gitpod/.pyenv/versions/3.8.18/lib/python3.8/site-packages (from streamlit==0.85.0->-r /workspace/SpheroidAnalytics/requirements.txt (line 7)) (24.0)\n",
            "Requirement already satisfied: pyarrow in /workspace/.pip-modules/lib/python3.8/site-packages (from streamlit==0.85.0->-r /workspace/SpheroidAnalytics/requirements.txt (line 7)) (16.0.0)\n",
            "Requirement already satisfied: pydeck>=0.1.dev5 in /workspace/.pip-modules/lib/python3.8/site-packages (from streamlit==0.85.0->-r /workspace/SpheroidAnalytics/requirements.txt (line 7)) (0.9.0)\n",
            "Requirement already satisfied: requests in /home/gitpod/.pyenv/versions/3.8.18/lib/python3.8/site-packages (from streamlit==0.85.0->-r /workspace/SpheroidAnalytics/requirements.txt (line 7)) (2.31.0)\n",
            "Requirement already satisfied: toml in /workspace/.pip-modules/lib/python3.8/site-packages (from streamlit==0.85.0->-r /workspace/SpheroidAnalytics/requirements.txt (line 7)) (0.10.2)\n",
            "Requirement already satisfied: tornado>=5.0 in /home/gitpod/.pyenv/versions/3.8.18/lib/python3.8/site-packages (from streamlit==0.85.0->-r /workspace/SpheroidAnalytics/requirements.txt (line 7)) (6.4)\n",
            "Requirement already satisfied: tzlocal in /workspace/.pip-modules/lib/python3.8/site-packages (from streamlit==0.85.0->-r /workspace/SpheroidAnalytics/requirements.txt (line 7)) (5.2)\n",
            "Requirement already satisfied: validators in /workspace/.pip-modules/lib/python3.8/site-packages (from streamlit==0.85.0->-r /workspace/SpheroidAnalytics/requirements.txt (line 7)) (0.28.1)\n",
            "Requirement already satisfied: gitpython in /workspace/.pip-modules/lib/python3.8/site-packages (from streamlit==0.85.0->-r /workspace/SpheroidAnalytics/requirements.txt (line 7)) (3.1.43)\n",
            "Requirement already satisfied: watchdog in /workspace/.pip-modules/lib/python3.8/site-packages (from streamlit==0.85.0->-r /workspace/SpheroidAnalytics/requirements.txt (line 7)) (4.0.0)\n",
            "Requirement already satisfied: joblib>=0.11 in /workspace/.pip-modules/lib/python3.8/site-packages (from scikit-learn==0.24.2->-r /workspace/SpheroidAnalytics/requirements.txt (line 9)) (1.4.2)\n",
            "Requirement already satisfied: threadpoolctl>=2.0.0 in /workspace/.pip-modules/lib/python3.8/site-packages (from scikit-learn==0.24.2->-r /workspace/SpheroidAnalytics/requirements.txt (line 9)) (3.5.0)\n",
            "Requirement already satisfied: absl-py~=0.10 in /workspace/.pip-modules/lib/python3.8/site-packages (from tensorflow-cpu==2.6.0->-r /workspace/SpheroidAnalytics/requirements.txt (line 10)) (0.15.0)\n",
            "Requirement already satisfied: astunparse~=1.6.3 in /workspace/.pip-modules/lib/python3.8/site-packages (from tensorflow-cpu==2.6.0->-r /workspace/SpheroidAnalytics/requirements.txt (line 10)) (1.6.3)\n",
            "Requirement already satisfied: clang~=5.0 in /workspace/.pip-modules/lib/python3.8/site-packages (from tensorflow-cpu==2.6.0->-r /workspace/SpheroidAnalytics/requirements.txt (line 10)) (5.0)\n",
            "Requirement already satisfied: flatbuffers~=1.12.0 in /workspace/.pip-modules/lib/python3.8/site-packages (from tensorflow-cpu==2.6.0->-r /workspace/SpheroidAnalytics/requirements.txt (line 10)) (1.12)\n",
            "Requirement already satisfied: google-pasta~=0.2 in /workspace/.pip-modules/lib/python3.8/site-packages (from tensorflow-cpu==2.6.0->-r /workspace/SpheroidAnalytics/requirements.txt (line 10)) (0.2.0)\n",
            "Requirement already satisfied: h5py~=3.1.0 in /workspace/.pip-modules/lib/python3.8/site-packages (from tensorflow-cpu==2.6.0->-r /workspace/SpheroidAnalytics/requirements.txt (line 10)) (3.1.0)\n",
            "Requirement already satisfied: keras-preprocessing~=1.1.2 in /workspace/.pip-modules/lib/python3.8/site-packages (from tensorflow-cpu==2.6.0->-r /workspace/SpheroidAnalytics/requirements.txt (line 10)) (1.1.2)\n",
            "Requirement already satisfied: opt-einsum~=3.3.0 in /workspace/.pip-modules/lib/python3.8/site-packages (from tensorflow-cpu==2.6.0->-r /workspace/SpheroidAnalytics/requirements.txt (line 10)) (3.3.0)\n",
            "Requirement already satisfied: termcolor~=1.1.0 in /workspace/.pip-modules/lib/python3.8/site-packages (from tensorflow-cpu==2.6.0->-r /workspace/SpheroidAnalytics/requirements.txt (line 10)) (1.1.0)\n",
            "Requirement already satisfied: typing-extensions~=3.7.4 in /workspace/.pip-modules/lib/python3.8/site-packages (from tensorflow-cpu==2.6.0->-r /workspace/SpheroidAnalytics/requirements.txt (line 10)) (3.7.4.3)\n",
            "Requirement already satisfied: wheel~=0.35 in /home/gitpod/.pyenv/versions/3.8.18/lib/python3.8/site-packages (from tensorflow-cpu==2.6.0->-r /workspace/SpheroidAnalytics/requirements.txt (line 10)) (0.43.0)\n",
            "Requirement already satisfied: wrapt~=1.12.1 in /workspace/.pip-modules/lib/python3.8/site-packages (from tensorflow-cpu==2.6.0->-r /workspace/SpheroidAnalytics/requirements.txt (line 10)) (1.12.1)\n",
            "Requirement already satisfied: gast==0.4.0 in /workspace/.pip-modules/lib/python3.8/site-packages (from tensorflow-cpu==2.6.0->-r /workspace/SpheroidAnalytics/requirements.txt (line 10)) (0.4.0)\n",
            "Requirement already satisfied: tensorboard~=2.6 in /workspace/.pip-modules/lib/python3.8/site-packages (from tensorflow-cpu==2.6.0->-r /workspace/SpheroidAnalytics/requirements.txt (line 10)) (2.14.0)\n",
            "Requirement already satisfied: tensorflow-estimator~=2.6 in /workspace/.pip-modules/lib/python3.8/site-packages (from tensorflow-cpu==2.6.0->-r /workspace/SpheroidAnalytics/requirements.txt (line 10)) (2.15.0)\n",
            "Requirement already satisfied: grpcio<2.0,>=1.37.0 in /workspace/.pip-modules/lib/python3.8/site-packages (from tensorflow-cpu==2.6.0->-r /workspace/SpheroidAnalytics/requirements.txt (line 10)) (1.63.0)\n",
            "Requirement already satisfied: entrypoints in /workspace/.pip-modules/lib/python3.8/site-packages (from altair<5->-r /workspace/SpheroidAnalytics/requirements.txt (line 13)) (0.4)\n",
            "Requirement already satisfied: jinja2 in /home/gitpod/.pyenv/versions/3.8.18/lib/python3.8/site-packages (from altair<5->-r /workspace/SpheroidAnalytics/requirements.txt (line 13)) (3.1.4)\n",
            "Requirement already satisfied: jsonschema>=3.0 in /home/gitpod/.pyenv/versions/3.8.18/lib/python3.8/site-packages (from altair<5->-r /workspace/SpheroidAnalytics/requirements.txt (line 13)) (4.22.0)\n",
            "Requirement already satisfied: toolz in /workspace/.pip-modules/lib/python3.8/site-packages (from altair<5->-r /workspace/SpheroidAnalytics/requirements.txt (line 13)) (0.12.1)\n",
            "Requirement already satisfied: importlib-resources>=1.4.0 in /home/gitpod/.pyenv/versions/3.8.18/lib/python3.8/site-packages (from jsonschema>=3.0->altair<5->-r /workspace/SpheroidAnalytics/requirements.txt (line 13)) (6.4.0)\n",
            "Requirement already satisfied: jsonschema-specifications>=2023.03.6 in /home/gitpod/.pyenv/versions/3.8.18/lib/python3.8/site-packages (from jsonschema>=3.0->altair<5->-r /workspace/SpheroidAnalytics/requirements.txt (line 13)) (2023.12.1)\n",
            "Requirement already satisfied: pkgutil-resolve-name>=1.3.10 in /home/gitpod/.pyenv/versions/3.8.18/lib/python3.8/site-packages (from jsonschema>=3.0->altair<5->-r /workspace/SpheroidAnalytics/requirements.txt (line 13)) (1.3.10)\n",
            "Requirement already satisfied: referencing>=0.28.4 in /home/gitpod/.pyenv/versions/3.8.18/lib/python3.8/site-packages (from jsonschema>=3.0->altair<5->-r /workspace/SpheroidAnalytics/requirements.txt (line 13)) (0.35.1)\n",
            "Requirement already satisfied: rpds-py>=0.7.1 in /home/gitpod/.pyenv/versions/3.8.18/lib/python3.8/site-packages (from jsonschema>=3.0->altair<5->-r /workspace/SpheroidAnalytics/requirements.txt (line 13)) (0.18.1)\n",
            "Requirement already satisfied: MarkupSafe>=2.0 in /home/gitpod/.pyenv/versions/3.8.18/lib/python3.8/site-packages (from jinja2->altair<5->-r /workspace/SpheroidAnalytics/requirements.txt (line 13)) (2.1.5)\n",
            "Requirement already satisfied: google-auth<3,>=1.6.3 in /workspace/.pip-modules/lib/python3.8/site-packages (from tensorboard~=2.6->tensorflow-cpu==2.6.0->-r /workspace/SpheroidAnalytics/requirements.txt (line 10)) (2.29.0)\n",
            "Requirement already satisfied: google-auth-oauthlib<1.1,>=0.5 in /workspace/.pip-modules/lib/python3.8/site-packages (from tensorboard~=2.6->tensorflow-cpu==2.6.0->-r /workspace/SpheroidAnalytics/requirements.txt (line 10)) (1.0.0)\n",
            "Requirement already satisfied: markdown>=2.6.8 in /workspace/.pip-modules/lib/python3.8/site-packages (from tensorboard~=2.6->tensorflow-cpu==2.6.0->-r /workspace/SpheroidAnalytics/requirements.txt (line 10)) (3.6)\n",
            "Requirement already satisfied: setuptools>=41.0.0 in /home/gitpod/.pyenv/versions/3.8.18/lib/python3.8/site-packages (from tensorboard~=2.6->tensorflow-cpu==2.6.0->-r /workspace/SpheroidAnalytics/requirements.txt (line 10)) (69.5.1)\n",
            "Requirement already satisfied: tensorboard-data-server<0.8.0,>=0.7.0 in /workspace/.pip-modules/lib/python3.8/site-packages (from tensorboard~=2.6->tensorflow-cpu==2.6.0->-r /workspace/SpheroidAnalytics/requirements.txt (line 10)) (0.7.2)\n",
            "Requirement already satisfied: werkzeug>=1.0.1 in /workspace/.pip-modules/lib/python3.8/site-packages (from tensorboard~=2.6->tensorflow-cpu==2.6.0->-r /workspace/SpheroidAnalytics/requirements.txt (line 10)) (3.0.3)\n",
            "Requirement already satisfied: charset-normalizer<4,>=2 in /home/gitpod/.pyenv/versions/3.8.18/lib/python3.8/site-packages (from requests->streamlit==0.85.0->-r /workspace/SpheroidAnalytics/requirements.txt (line 7)) (3.3.2)\n",
            "Requirement already satisfied: idna<4,>=2.5 in /home/gitpod/.pyenv/versions/3.8.18/lib/python3.8/site-packages (from requests->streamlit==0.85.0->-r /workspace/SpheroidAnalytics/requirements.txt (line 7)) (3.7)\n",
            "Requirement already satisfied: urllib3<3,>=1.21.1 in /home/gitpod/.pyenv/versions/3.8.18/lib/python3.8/site-packages (from requests->streamlit==0.85.0->-r /workspace/SpheroidAnalytics/requirements.txt (line 7)) (2.2.1)\n",
            "Requirement already satisfied: gitdb<5,>=4.0.1 in /workspace/.pip-modules/lib/python3.8/site-packages (from gitpython->streamlit==0.85.0->-r /workspace/SpheroidAnalytics/requirements.txt (line 7)) (4.0.11)\n",
            "Requirement already satisfied: backports.zoneinfo in /workspace/.pip-modules/lib/python3.8/site-packages (from tzlocal->streamlit==0.85.0->-r /workspace/SpheroidAnalytics/requirements.txt (line 7)) (0.2.1)\n",
            "Requirement already satisfied: smmap<6,>=3.0.1 in /workspace/.pip-modules/lib/python3.8/site-packages (from gitdb<5,>=4.0.1->gitpython->streamlit==0.85.0->-r /workspace/SpheroidAnalytics/requirements.txt (line 7)) (5.0.1)\n",
            "Requirement already satisfied: pyasn1-modules>=0.2.1 in /workspace/.pip-modules/lib/python3.8/site-packages (from google-auth<3,>=1.6.3->tensorboard~=2.6->tensorflow-cpu==2.6.0->-r /workspace/SpheroidAnalytics/requirements.txt (line 10)) (0.4.0)\n",
            "Requirement already satisfied: rsa<5,>=3.1.4 in /workspace/.pip-modules/lib/python3.8/site-packages (from google-auth<3,>=1.6.3->tensorboard~=2.6->tensorflow-cpu==2.6.0->-r /workspace/SpheroidAnalytics/requirements.txt (line 10)) (4.9)\n",
            "Requirement already satisfied: requests-oauthlib>=0.7.0 in /workspace/.pip-modules/lib/python3.8/site-packages (from google-auth-oauthlib<1.1,>=0.5->tensorboard~=2.6->tensorflow-cpu==2.6.0->-r /workspace/SpheroidAnalytics/requirements.txt (line 10)) (2.0.0)\n",
            "Requirement already satisfied: zipp>=3.1.0 in /home/gitpod/.pyenv/versions/3.8.18/lib/python3.8/site-packages (from importlib-resources>=1.4.0->jsonschema>=3.0->altair<5->-r /workspace/SpheroidAnalytics/requirements.txt (line 13)) (3.18.1)\n",
            "Requirement already satisfied: importlib-metadata>=4.4 in /home/gitpod/.pyenv/versions/3.8.18/lib/python3.8/site-packages (from markdown>=2.6.8->tensorboard~=2.6->tensorflow-cpu==2.6.0->-r /workspace/SpheroidAnalytics/requirements.txt (line 10)) (7.1.0)\n",
            "Requirement already satisfied: pyasn1<0.7.0,>=0.4.6 in /workspace/.pip-modules/lib/python3.8/site-packages (from pyasn1-modules>=0.2.1->google-auth<3,>=1.6.3->tensorboard~=2.6->tensorflow-cpu==2.6.0->-r /workspace/SpheroidAnalytics/requirements.txt (line 10)) (0.6.0)\n",
            "Requirement already satisfied: oauthlib>=3.0.0 in /workspace/.pip-modules/lib/python3.8/site-packages (from requests-oauthlib>=0.7.0->google-auth-oauthlib<1.1,>=0.5->tensorboard~=2.6->tensorflow-cpu==2.6.0->-r /workspace/SpheroidAnalytics/requirements.txt (line 10)) (3.2.2)\n",
            "Note: you may need to restart the kernel to use updated packages.\n",
            "Collecting ismember\n",
            "  Downloading ismember-1.0.4-py3-none-any.whl.metadata (3.4 kB)\n",
            "Requirement already satisfied: numpy in /workspace/.pip-modules/lib/python3.8/site-packages (from ismember) (1.19.2)\n",
            "Downloading ismember-1.0.4-py3-none-any.whl (7.7 kB)\n",
            "Installing collected packages: ismember\n",
            "Successfully installed ismember-1.0.4\n",
            "Note: you may need to restart the kernel to use updated packages.\n"
          ]
        }
      ],
      "source": [
        "%pip install -r /workspace/SpheroidAnalytics/requirements.txt\n",
        "%pip install -U ismember  # update if needed"
      ]
    },
    {
      "cell_type": "code",
      "execution_count": 19,
      "metadata": {
        "metadata": {}
      },
      "outputs": [],
      "source": [
        "import numpy as np\n",
        "import os\n",
        "import shutil\n",
        "from ismember import ismember"
      ]
    },
    {
      "cell_type": "markdown",
      "metadata": {
        "id": "cqP-UeN-z3i2"
      },
      "source": [
        "# Change working directory"
      ]
    },
    {
      "cell_type": "markdown",
      "metadata": {},
      "source": [
        "* We are assuming you will store the notebooks in a subfolder, therefore when running the notebook in the editor, you will need to change the working directory"
      ]
    },
    {
      "cell_type": "markdown",
      "metadata": {
        "id": "aOGIGS-uz3i2"
      },
      "source": [
        "We need to change the working directory from its current folder to its parent folder\n",
        "* We access the current directory with os.getcwd()"
      ]
    },
    {
      "cell_type": "code",
      "execution_count": 3,
      "metadata": {
        "id": "wZfF_j-Bz3i4",
        "metadata": {},
        "outputId": "66943449-1436-4c3d-85c7-b85f9f78349b"
      },
      "outputs": [
        {
          "name": "stdout",
          "output_type": "stream",
          "text": [
            "You set a new current directory\n"
          ]
        },
        {
          "data": {
            "text/plain": [
              "'/workspace/SpheroidAnalytics'"
            ]
          },
          "execution_count": 3,
          "metadata": {},
          "output_type": "execute_result"
        }
      ],
      "source": [
        "current_dir = os.getcwd()\n",
        "current_dir\n",
        "\n",
        "os.chdir('/workspace/SpheroidAnalytics')\n",
        "print(\"You set a new current directory\")\n",
        "current_dir = os.getcwd()\n",
        "current_dir"
      ]
    },
    {
      "cell_type": "markdown",
      "metadata": {
        "id": "9MWW8E7lz3i7"
      },
      "source": [
        "We want to make the parent of the current directory the new current directory\n",
        "* os.path.dirname() gets the parent directory\n",
        "* os.chir() defines the new current directory"
      ]
    },
    {
      "cell_type": "markdown",
      "metadata": {},
      "source": [
        "# Install Kaggle"
      ]
    },
    {
      "cell_type": "code",
      "execution_count": 4,
      "metadata": {
        "id": "TwHsQRWjz3i9",
        "metadata": {},
        "outputId": "86849db3-cd2f-4cc5-ebb8-2d0caafa1a2c"
      },
      "outputs": [
        {
          "name": "stdout",
          "output_type": "stream",
          "text": [
            "Requirement already satisfied: kaggle==1.5.12 in /workspace/.pip-modules/lib/python3.8/site-packages (1.5.12)\n",
            "Requirement already satisfied: six>=1.10 in /workspace/.pip-modules/lib/python3.8/site-packages (from kaggle==1.5.12) (1.15.0)\n",
            "Requirement already satisfied: certifi in /home/gitpod/.pyenv/versions/3.8.18/lib/python3.8/site-packages (from kaggle==1.5.12) (2024.2.2)\n",
            "Requirement already satisfied: python-dateutil in /home/gitpod/.pyenv/versions/3.8.18/lib/python3.8/site-packages (from kaggle==1.5.12) (2.9.0.post0)\n",
            "Requirement already satisfied: requests in /home/gitpod/.pyenv/versions/3.8.18/lib/python3.8/site-packages (from kaggle==1.5.12) (2.31.0)\n",
            "Requirement already satisfied: tqdm in /workspace/.pip-modules/lib/python3.8/site-packages (from kaggle==1.5.12) (4.66.4)\n",
            "Requirement already satisfied: python-slugify in /workspace/.pip-modules/lib/python3.8/site-packages (from kaggle==1.5.12) (8.0.4)\n",
            "Requirement already satisfied: urllib3 in /home/gitpod/.pyenv/versions/3.8.18/lib/python3.8/site-packages (from kaggle==1.5.12) (2.2.1)\n",
            "Requirement already satisfied: text-unidecode>=1.3 in /workspace/.pip-modules/lib/python3.8/site-packages (from python-slugify->kaggle==1.5.12) (1.3)\n",
            "Requirement already satisfied: charset-normalizer<4,>=2 in /home/gitpod/.pyenv/versions/3.8.18/lib/python3.8/site-packages (from requests->kaggle==1.5.12) (3.3.2)\n",
            "Requirement already satisfied: idna<4,>=2.5 in /home/gitpod/.pyenv/versions/3.8.18/lib/python3.8/site-packages (from requests->kaggle==1.5.12) (3.7)\n",
            "Note: you may need to restart the kernel to use updated packages.\n"
          ]
        }
      ],
      "source": [
        "# install kaggle package\n",
        "%pip install kaggle==1.5.12"
      ]
    },
    {
      "cell_type": "markdown",
      "metadata": {
        "id": "M_xPk_Ijz3i-"
      },
      "source": [
        "Provide user id information for Kaggle.\n",
        "* You need to download and add your token to main first!\n",
        "* Don't forget to add it to gitignore!"
      ]
    },
    {
      "cell_type": "code",
      "execution_count": 5,
      "metadata": {
        "id": "vz3S-_kjz3jA",
        "metadata": {},
        "outputId": "00b79ae4-75d0-4a96-d193-ac9ef9847ea2"
      },
      "outputs": [],
      "source": [
        "os.environ['KAGGLE_CONFIG_DIR'] = os.getcwd()\n",
        "! chmod 600 /workspace/SpheroidAnalytics/kaggle.json"
      ]
    },
    {
      "cell_type": "markdown",
      "metadata": {},
      "source": [
        "### Set Kaggle Dataset and Download"
      ]
    },
    {
      "cell_type": "code",
      "execution_count": 6,
      "metadata": {
        "metadata": {}
      },
      "outputs": [],
      "source": [
        "KaggleDatasetPath = 'andrgndel/spheroidtestset'\n",
        "DestinationFolder = 'inputs/RawImages'"
      ]
    },
    {
      "cell_type": "code",
      "execution_count": 11,
      "metadata": {
        "metadata": {}
      },
      "outputs": [
        {
          "name": "stdout",
          "output_type": "stream",
          "text": [
            "Downloading spheroidtestset.zip to inputs/RawImages\n",
            " 97%|██████████████████████████████████████▋ | 131M/135M [00:02<00:00, 52.4MB/s]\n",
            "100%|████████████████████████████████████████| 135M/135M [00:02<00:00, 48.2MB/s]\n"
          ]
        }
      ],
      "source": [
        "# Download Data\n",
        "! kaggle datasets download -d {KaggleDatasetPath} -p {DestinationFolder} --force"
      ]
    },
    {
      "cell_type": "markdown",
      "metadata": {},
      "source": [
        "%%% unzip files"
      ]
    },
    {
      "cell_type": "code",
      "execution_count": 12,
      "metadata": {
        "metadata": {}
      },
      "outputs": [],
      "source": [
        "import zipfile\n",
        "with zipfile.ZipFile(DestinationFolder + '/spheroidtestset.zip', 'r') as zip_ref:\n",
        "    zip_ref.extractall(DestinationFolder)\n",
        "\n",
        "os.remove(DestinationFolder + '/spheroidtestset.zip')"
      ]
    },
    {
      "cell_type": "markdown",
      "metadata": {
        "id": "-mavJ8DibrcQ"
      },
      "source": [
        "# Data Clean-up"
      ]
    },
    {
      "cell_type": "markdown",
      "metadata": {},
      "source": [
        "## Check and Remove non-image files by func 'remove-non-image-file'"
      ]
    },
    {
      "cell_type": "code",
      "execution_count": 13,
      "metadata": {
        "metadata": {}
      },
      "outputs": [],
      "source": [
        "def remove_non_image_file(my_data_dir):\n",
        "    # extension for raw images only!\n",
        "    image_extension = ('.tif')\n",
        "    # following subfolders in inputs will remain after function runs\n",
        "    saveDirectory = ('RawImages','RawImages/')\n",
        "    folders = os.listdir(my_data_dir)\n",
        "    for folder in folders:\n",
        "        files = os.listdir(my_data_dir + '/' + folder)\n",
        "        # print(files)\n",
        "        i = []\n",
        "        j = []\n",
        "        for given_file in files:\n",
        "            if not given_file.lower().endswith(image_extension):\n",
        "                file_location = my_data_dir + '/' + folder + '/' + given_file\n",
        "                if os.path.isdir(file_location):\n",
        "                    if not file_location.lower().endswith(saveDirectory):\n",
        "                        shutil.rmtree(file_location)    # remove other folders\n",
        "                else:\n",
        "                    os.remove(file_location)  # remove non image file\n",
        "                \n",
        "                i.append(1)\n",
        "            else:\n",
        "                j.append(1)\n",
        "                pass\n",
        "        print(f\"Folder: {folder} - has image file\", len(j))\n",
        "        print(f\"Folder: {folder} - has non-image file\", len(i))\n",
        "        "
      ]
    },
    {
      "cell_type": "code",
      "execution_count": 14,
      "metadata": {
        "metadata": {}
      },
      "outputs": [
        {
          "name": "stdout",
          "output_type": "stream",
          "text": [
            "Folder: RawImages - has image file 32\n",
            "Folder: RawImages - has non-image file 0\n"
          ]
        }
      ],
      "source": [
        "remove_non_image_file(my_data_dir = 'inputs')"
      ]
    },
    {
      "cell_type": "markdown",
      "metadata": {},
      "source": [
        "## Split Data into Labels\n",
        "Sample images are generated on an automated imaging platform. For this example references spheroids are associated with column 23 ('alive') and column 24 ('dead'). Other wells are placed in unknown."
      ]
    },
    {
      "cell_type": "code",
      "execution_count": 23,
      "metadata": {
        "metadata": {}
      },
      "outputs": [],
      "source": [
        "import os\n",
        "#import shutil\n",
        "import random\n",
        "import joblib\n",
        "import math\n",
        "\n",
        "# define function\n",
        "def split_train_validation_test_images(my_data_dir, train_set_ratio, validation_set_ratio, test_set_ratio):\n",
        "\n",
        "    if train_set_ratio + validation_set_ratio + test_set_ratio != 1.0:\n",
        "        print(\"train_set_ratio + validation_set_ratio + test_set_ratio should sum to 1.0\")\n",
        "        return\n",
        "\n",
        "    # gets classes labels\n",
        "    # 23... means class 1 and 24 means class 2\n",
        "    fileList = os.listdir(my_data_dir + '/RawImages')  # it should get only the folder name\n",
        "    n = len(fileList)\n",
        "    ntrain = math.floor(n*train_set_ratio)\n",
        "    nval = math.floor(n*validation_set_ratio)\n",
        "    ntest = n - ntrain - nval\n",
        "    \n",
        "    # create train, test folders with classes labels sub-folder\n",
        "    for folder in ['train', 'validation', 'test']:\n",
        "        for label in ['alive','dead']:\n",
        "            if os.path.isdir(my_data_dir + '/' + folder + '/' + label):\n",
        "                pass\n",
        "            else:\n",
        "                os.makedirs(name=my_data_dir + '/' + folder + '/' + label)\n",
        "    if os.path.isdir(my_data_dir + '/test/unknown'):\n",
        "        pass\n",
        "    else:\n",
        "        os.makedirs(name=my_data_dir + '/test/unknown')\n",
        "\n",
        "    random.shuffle(fileList)\n",
        "    lblList = []\n",
        "    print(n)\n",
        "    count = 1\n",
        "    for file in fileList:\n",
        "        fileLbl = file[-6:]\n",
        "        fileLbl = fileLbl[:2]\n",
        "        if fileLbl == '23':\n",
        "            lblList.append(1)\n",
        "            lblFolder = 'alive'\n",
        "        elif fileLbl == '24':\n",
        "            lblList.append(2)\n",
        "            lblFolder = 'dead'\n",
        "        else:\n",
        "            lblList.append(0)\n",
        "            lblFolder = 'unknown'\n",
        "        \n",
        "        if lblFolder == 'unknown':\n",
        "            # move given file to test set\n",
        "                    shutil.move(my_data_dir + '/RawImages' + '/' + file,\n",
        "                                my_data_dir + '/test/' + lblFolder + '/' + file)\n",
        "                    ntest = ntest - 1\n",
        "                    if ntest<0:\n",
        "                        ntest = 0\n",
        "                        nval = nval - 1\n",
        "\n",
        "                    if nval<0:\n",
        "                        ntrain = ntrain - 1\n",
        "        else:\n",
        "            if count<=ntrain:\n",
        "                # move a given file to the train set\n",
        "                    shutil.move(my_data_dir + '/RawImages' + '/' + file,\n",
        "                                my_data_dir + '/train/' + lblFolder + '/' + file)\n",
        "            elif count<=(ntrain+nval):\n",
        "                # move a given file to the validation set\n",
        "                    shutil.move(my_data_dir + '/RawImages' + '/' + file,\n",
        "                                my_data_dir + '/validation/' + lblFolder + '/' + file)\n",
        "            else:\n",
        "                # move a given file to the test set\n",
        "                    shutil.move(my_data_dir + '/RawImages' + '/' + file,\n",
        "                                my_data_dir + '/test/' + lblFolder + '/' + file)\n",
        "        count += 1\n",
        "    # LX, LocY = ismember(lblList,[1])\n",
        "    # print(LX)\n",
        "    # print(lblList)"
      ]
    },
    {
      "cell_type": "code",
      "execution_count": 24,
      "metadata": {
        "metadata": {}
      },
      "outputs": [
        {
          "name": "stdout",
          "output_type": "stream",
          "text": [
            "0\n",
            "[]\n",
            "[]\n"
          ]
        }
      ],
      "source": [
        "# run sample sorting\n",
        "split_train_validation_test_images(my_data_dir=f\"inputs\",\n",
        "                                   train_set_ratio=0.7,\n",
        "                                   validation_set_ratio=0.1,\n",
        "                                   test_set_ratio=0.2\n",
        "                                   )"
      ]
    },
    {
      "cell_type": "markdown",
      "metadata": {
        "id": "ZY3l0-AxO93d"
      },
      "source": [
        "---"
      ]
    },
    {
      "cell_type": "markdown",
      "metadata": {
        "id": "uFQo3ycuO-v6"
      },
      "source": [
        "# Section 2"
      ]
    },
    {
      "cell_type": "markdown",
      "metadata": {},
      "source": [
        "Section 2 content"
      ]
    },
    {
      "cell_type": "code",
      "execution_count": null,
      "metadata": {},
      "outputs": [],
      "source": []
    },
    {
      "cell_type": "markdown",
      "metadata": {},
      "source": [
        "---"
      ]
    },
    {
      "cell_type": "markdown",
      "metadata": {},
      "source": [
        "NOTE"
      ]
    },
    {
      "cell_type": "markdown",
      "metadata": {},
      "source": [
        "* You may add as many sections as you want, as long as it supports your project workflow.\n",
        "* All notebook's cells should be run top-down (you can't create a dynamic wherein a given point you need to go back to a previous cell to execute some task, like go back to a previous cell and refresh a variable content)"
      ]
    },
    {
      "cell_type": "markdown",
      "metadata": {},
      "source": [
        "---"
      ]
    },
    {
      "cell_type": "markdown",
      "metadata": {
        "id": "ltNetd085qHf"
      },
      "source": [
        "# Push files to Repo"
      ]
    },
    {
      "cell_type": "markdown",
      "metadata": {},
      "source": [
        "* If you don't need to push files to Repo, you may replace this section with \"Conclusions and Next Steps\" and state your conclusions and next steps."
      ]
    },
    {
      "cell_type": "code",
      "execution_count": 8,
      "metadata": {
        "id": "aKlnIozA4eQO",
        "metadata": {},
        "outputId": "fd09bc1f-adb1-4511-f6ce-492a6af570c0"
      },
      "outputs": [
        {
          "ename": "IndentationError",
          "evalue": "expected an indented block (1114530593.py, line 5)",
          "output_type": "error",
          "traceback": [
            "\u001b[0;36m  Cell \u001b[0;32mIn[8], line 5\u001b[0;36m\u001b[0m\n\u001b[0;31m    except Exception as e:\u001b[0m\n\u001b[0m    ^\u001b[0m\n\u001b[0;31mIndentationError\u001b[0m\u001b[0;31m:\u001b[0m expected an indented block\n"
          ]
        }
      ],
      "source": [
        "import os\n",
        "try:\n",
        "    # create here your folder\n",
        "    # os.makedirs(name='')\n",
        "except Exception as e:\n",
        "    print(e)\n"
      ]
    }
  ],
  "metadata": {
    "accelerator": "GPU",
    "colab": {
      "name": "Data Practitioner Jupyter Notebook.ipynb",
      "provenance": [],
      "toc_visible": true
    },
    "interpreter": {
      "hash": "8b8334dab9339717f727a1deaf837b322d7a41c20d15cc86be99a8e69ceec8ce"
    },
    "kernelspec": {
      "display_name": "Python 3.8.12 64-bit ('3.8.12': pyenv)",
      "name": "python3"
    },
    "language_info": {
      "codemirror_mode": {
        "name": "ipython",
        "version": 3
      },
      "file_extension": ".py",
      "mimetype": "text/x-python",
      "name": "python",
      "nbconvert_exporter": "python",
      "pygments_lexer": "ipython3",
      "version": "3.8.18"
    },
    "orig_nbformat": 2
  },
  "nbformat": 4,
  "nbformat_minor": 2
}
